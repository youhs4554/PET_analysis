{
 "cells": [
  {
   "cell_type": "code",
   "execution_count": 1,
   "metadata": {},
   "outputs": [
    {
     "name": "stderr",
     "output_type": "stream",
     "text": [
      "/home/hossay/anaconda3/envs/torch/lib/python3.6/site-packages/sklearn/ensemble/weight_boosting.py:29: DeprecationWarning: numpy.core.umath_tests is an internal NumPy module and should not be imported. It will be removed in a future NumPy release.\n",
      "  from numpy.core.umath_tests import inner1d\n"
     ]
    }
   ],
   "source": [
    "import torch\n",
    "import torch.nn as nn\n",
    "from torch.utils.data import Dataset, DataLoader\n",
    "import torchvision.transforms as transforms\n",
    "import torchvision.transforms.functional as TF\n",
    "import torch.nn.functional as F\n",
    "import torch.optim as optim\n",
    "from sklearn.model_selection import train_test_split\n",
    "from sklearn import metrics\n",
    "import numpy as np\n",
    "import cv2\n",
    "from PIL import Image\n",
    "import matplotlib.pyplot as plt\n",
    "import pandas as pd\n",
    "import glob\n",
    "import tqdm\n",
    "from natsort import natsorted\n",
    "import os, sys, random\n",
    "from imblearn.over_sampling import SMOTE\n",
    "import skimage\n",
    "from skimage.exposure import rescale_intensity\n",
    "from skimage.transform import resize\n",
    "from IPython.core.debugger import set_trace"
   ]
  },
  {
   "cell_type": "code",
   "execution_count": 2,
   "metadata": {},
   "outputs": [],
   "source": [
    "os.environ[\"CUDA_DEVICE_ORDER\"]=\"PCI_BUS_ID\"   # see issue #152\n",
    "os.environ[\"CUDA_VISIBLE_DEVICES\"]=\"3\""
   ]
  },
  {
   "cell_type": "code",
   "execution_count": 3,
   "metadata": {},
   "outputs": [],
   "source": [
    "cuda = torch.cuda.is_available()\n",
    "device = torch.device('cuda:0' if cuda else 'cpu')"
   ]
  },
  {
   "cell_type": "code",
   "execution_count": 4,
   "metadata": {},
   "outputs": [],
   "source": [
    "image_prepro = transforms.Compose([\n",
    "    transforms.Resize(128),\n",
    "    transforms.Grayscale(3),\n",
    "    transforms.ToTensor(),\n",
    "    transforms.Normalize((0.5,0.5,0.5), (0.5,0.5,0.5))\n",
    "])\n",
    "\n",
    "def save_patches(frame_root, save_root, patch_size, global_ix,\n",
    "                 seed, n_sample=100):\n",
    "    if not os.path.exists(save_root):\n",
    "        os.system(f'mkdir -p {save_root}')\n",
    "    \n",
    "    filenames = natsorted(os.listdir(frame_root))\n",
    "\n",
    "    volume = []\n",
    "    for fn in filenames:\n",
    "        fn = os.path.join(frame_root, fn)\n",
    "        #img = skimage.io.imread(fn, plugin='tifffile')\n",
    "        img = image_prepro(Image.open(fn)).numpy()[0]\n",
    "        volume.append(img)\n",
    "\n",
    "    volume = np.array(volume)\n",
    "    \n",
    "    # random volume cropping for 100 times\n",
    "    random.seed(seed)\n",
    "    c = 0\n",
    "    while c < n_sample:\n",
    "        rand_z, rand_y, rand_x = [ np.random.randint(0, volume.shape[i]-patch_size) for i in range(3) ]\n",
    "        crop = volume[rand_z:rand_z+patch_size, rand_y:rand_y+patch_size, rand_x:rand_x+patch_size]\n",
    "        if all([ len(np.unique(s)) > 0.2*(patch_size**2) for s in crop]):\n",
    "            np.save(os.path.join(save_root, f'patch_{global_ix}.npy'), crop)\n",
    "            global_ix += 1\n",
    "            c += 1\n",
    "    \n",
    "    return global_ix\n",
    "    \n",
    "def generate_patches(root, save_root,\n",
    "                    patch_size=7, train=True):\n",
    "    dirpath = np.array(natsorted(glob.glob(root+'/*/*')))\n",
    "\n",
    "    train_size = int(len(dirpath)*0.8)\n",
    "    test_size = len(dirpath)-train_size\n",
    "\n",
    "    np.random.seed(999)\n",
    "    train_ixs = np.random.choice(range(len(dirpath)), size=train_size, replace=False)\n",
    "    test_ixs = np.array(\n",
    "        list(set(range(len(dirpath))) - set(train_ixs))\n",
    "    )\n",
    "\n",
    "    if train:\n",
    "        dirpath = dirpath[train_ixs]\n",
    "    else:\n",
    "        dirpath = dirpath[test_ixs]\n",
    "                \n",
    "    suffix = 'train' if train else 'test'\n",
    "                \n",
    "    save_root = os.path.join(save_root, suffix)\n",
    "    \n",
    "    global_ix = 0\n",
    "    for frame_root in tqdm.tqdm(dirpath):\n",
    "        seed = random.randint(-sys.maxsize, sys.maxsize)\n",
    "        global_ix = save_patches(frame_root, save_root, patch_size, global_ix=global_ix, seed=seed, n_sample=100)"
   ]
  },
  {
   "cell_type": "markdown",
   "metadata": {},
   "source": [
    "# Generate Patch Data"
   ]
  },
  {
   "cell_type": "code",
   "execution_count": 5,
   "metadata": {},
   "outputs": [],
   "source": [
    "root = '/data/DSMC_breast468/full'"
   ]
  },
  {
   "cell_type": "code",
   "execution_count": 6,
   "metadata": {
    "scrolled": true
   },
   "outputs": [],
   "source": [
    "if not os.path.exists('/data/DSMC_breast468/patches'):\n",
    "    generate_patches(root, save_root='/data/DSMC_breast468/patches', train=True)  # trainset\n",
    "    generate_patches(root, save_root='/data/DSMC_breast468/patches', train=False) # testset"
   ]
  },
  {
   "cell_type": "markdown",
   "metadata": {},
   "source": [
    "# Patch Datasets"
   ]
  },
  {
   "cell_type": "code",
   "execution_count": 7,
   "metadata": {},
   "outputs": [],
   "source": [
    "class PETImagePatchDataset(Dataset):\n",
    "    def __init__(self, root, patch_size=7, train=True):\n",
    "        suffix = 'train' if train else 'test'\n",
    "        root = os.path.join(root, suffix)\n",
    "        \n",
    "        self.dirpath = np.array(natsorted(glob.glob(root+'/*')))\n",
    "                \n",
    "    def __len__(self):\n",
    "        return len(self.dirpath)\n",
    "    \n",
    "    def __getitem__(self, ix):\n",
    "        volume = np.load(self.dirpath[ix])\n",
    "        return torch.FloatTensor(volume).flatten()"
   ]
  },
  {
   "cell_type": "code",
   "execution_count": 8,
   "metadata": {},
   "outputs": [],
   "source": [
    "root = '/data/DSMC_breast468/patches'\n",
    "datasets = {\n",
    "    split : PETImagePatchDataset(root, train=(split=='train'))\n",
    "    for split in ['train', 'test']\n",
    "}\n",
    "dataloaders = {\n",
    "    split: DataLoader(datasets[split], batch_size=128, shuffle=(split=='train'))\n",
    "    for split in ['train', 'test']\n",
    "}"
   ]
  },
  {
   "cell_type": "code",
   "execution_count": 9,
   "metadata": {},
   "outputs": [],
   "source": [
    "import warnings\n",
    "warnings.filterwarnings('ignore')\n",
    "import os, datetime\n",
    "os.environ[\"CUDA_DEVICE_ORDER\"]=\"PCI_BUS_ID\"   # see issue #152\n",
    "os.environ[\"CUDA_VISIBLE_DEVICES\"]=\"5\"\n",
    "\n",
    "import torch\n",
    "import numpy as np\n",
    "import torchvision\n",
    "import matplotlib.pyplot as plt\n",
    "\n",
    "from torch import nn\n",
    "from torch.autograd import Variable\n",
    "from networks import SparseAutoencoderKL\n",
    "\n",
    "cuda = torch.cuda.is_available()\n",
    "device = torch.device('cuda:0' if cuda else 'cpu')\n",
    "\n",
    "def kl_divergence(p, p_hat):\n",
    "    funcs = nn.Sigmoid()\n",
    "    p_hat = torch.mean(funcs(p_hat), 1)\n",
    "    p_tensor = torch.Tensor([p] * len(p_hat)).to(device)\n",
    "    return torch.sum(p_tensor * torch.log(p_tensor) - p_tensor * torch.log(p_hat) + (1 - p_tensor) * torch.log(1 - p_tensor) - (1 - p_tensor) * torch.log(1 - p_hat))\n",
    "\n",
    "def sparse_loss(autoencoder, images):\n",
    "    loss = 0\n",
    "    values = images\n",
    "    for i in range(3):\n",
    "        fc_layer = list(autoencoder.encoder.children())[2 * i]\n",
    "        relu = list(autoencoder.encoder.children())[2 * i + 1]\n",
    "        values = fc_layer(values)\n",
    "        loss += kl_divergence(DISTRIBUTION_VAL, values)\n",
    "    for i in range(2):\n",
    "        fc_layer = list(autoencoder.decoder.children())[2 * i]\n",
    "        relu = list(autoencoder.decoder.children())[2 * i + 1]\n",
    "        values = fc_layer(values)\n",
    "        loss += kl_divergence(DISTRIBUTION_VAL, values)\n",
    "    return loss\n",
    "\n",
    "def model_training(autoencoder, train_loader, epoch):\n",
    "    loss_metric = nn.MSELoss()\n",
    "    optimizer = torch.optim.Adam(autoencoder.parameters(), lr=LEARNING_RATE, weight_decay=WEIGHT_DECAY)\n",
    "\n",
    "    autoencoder.train()\n",
    "    for i, data in enumerate(train_loader):\n",
    "        optimizer.zero_grad()\n",
    "        images = data\n",
    "        images = Variable(images)\n",
    "        images = images.view(images.size(0), -1)\n",
    "        if cuda: images = images.to(device)\n",
    "        outputs = autoencoder(images)\n",
    "        mse_loss = loss_metric(outputs, images)\n",
    "        kl_loss = sparse_loss(autoencoder, images)\n",
    "        loss = mse_loss + kl_loss * SPARSE_REG\n",
    "        loss.backward()\n",
    "        optimizer.step()\n",
    "        if (i + 1) % LOG_INTERVAL == 0:\n",
    "            print('Epoch [{}/{}] - Iter[{}/{}], Total loss:{:.4f}, MSE loss:{:.4f}, Sparse loss:{:.4f}'.format(\n",
    "                epoch + 1, EPOCHS, i + 1, len(train_loader.dataset) // BATCH_SIZE, loss.item(), mse_loss.item(), kl_loss.item()\n",
    "            ))\n",
    "\n",
    "def evaluation(autoencoder, test_loader):\n",
    "    total_loss = 0\n",
    "    loss_metric = nn.MSELoss()\n",
    "    autoencoder.eval()\n",
    "    for i, data in enumerate(test_loader):\n",
    "        images = data\n",
    "        images = Variable(images)\n",
    "        images = images.view(images.size(0), -1)\n",
    "        if cuda: images = images.to(device)\n",
    "        outputs = autoencoder(images)\n",
    "        loss = loss_metric(outputs, images)\n",
    "        total_loss += loss * len(images)\n",
    "    avg_loss = total_loss / len(test_loader.dataset)\n",
    "\n",
    "    print('\\nAverage MSE Loss on Test set: {:.4f}'.format(avg_loss))\n",
    "\n",
    "    global BEST_VAL\n",
    "    if TRAIN_SCRATCH and avg_loss < BEST_VAL:\n",
    "        BEST_VAL = avg_loss\n",
    "        torch.save(autoencoder.state_dict(), './history/sparse_autoencoder_KL.pt')\n",
    "        print('Save Best Model in HISTORY\\n')"
   ]
  },
  {
   "cell_type": "code",
   "execution_count": 10,
   "metadata": {
    "scrolled": true
   },
   "outputs": [],
   "source": [
    "EPOCHS = 100\n",
    "BATCH_SIZE = 128\n",
    "LEARNING_RATE = 1e-3\n",
    "WEIGHT_DECAY = 1e-5\n",
    "LOG_INTERVAL = 100\n",
    "DISTRIBUTION_VAL = 0.3\n",
    "SPARSE_REG = 1e-3\n",
    "TRAIN_SCRATCH = False        # whether to train a model from scratch\n",
    "BEST_VAL = float('inf')     # record the best val loss\n",
    "\n",
    "#train_loader, test_loader = data_utils.load_mnist(BATCH_SIZE)\n",
    "train_loader, test_loader = dataloaders['train'], dataloaders['test']\n",
    "\n",
    "autoencoder = SparseAutoencoderKL()\n",
    "if cuda: autoencoder.to(device)\n",
    "\n",
    "if TRAIN_SCRATCH:\n",
    "    # Training autoencoder from scratch\n",
    "    for epoch in range(EPOCHS):\n",
    "        starttime = datetime.datetime.now()\n",
    "        model_training(autoencoder, train_loader, epoch)\n",
    "        endtime = datetime.datetime.now()\n",
    "        print(f'Train a epoch in {(endtime - starttime).seconds} seconds')\n",
    "        # evaluate on test set and save best model\n",
    "        evaluation(autoencoder, test_loader)\n",
    "    print('Trainig Complete with best validation loss {:.4f}'.format(BEST_VAL))"
   ]
  },
  {
   "cell_type": "code",
   "execution_count": 11,
   "metadata": {},
   "outputs": [
    {
     "name": "stdout",
     "output_type": "stream",
     "text": [
      "\n",
      "Average MSE Loss on Test set: 0.0059\n"
     ]
    }
   ],
   "source": [
    "autoencoder.load_state_dict(torch.load('./history/sparse_autoencoder_KL.pt'))\n",
    "evaluation(autoencoder, test_loader)\n",
    "\n",
    "autoencoder.cpu()\n",
    "dataiter = iter(test_loader)\n",
    "images = next(dataiter)\n",
    "images = Variable(images[:32])\n",
    "outputs = autoencoder(images.view(images.size(0), -1))"
   ]
  },
  {
   "cell_type": "code",
   "execution_count": 17,
   "metadata": {},
   "outputs": [
    {
     "data": {
      "text/plain": [
       "<matplotlib.image.AxesImage at 0x7f3e7254b438>"
      ]
     },
     "execution_count": 17,
     "metadata": {},
     "output_type": "execute_result"
    },
    {
     "data": {
      "image/png": "[encoded data removed]",
      "text/plain": [
       "<Figure size 1080x1080 with 1 Axes>"
      ]
     },
     "metadata": {
      "needs_background": "light"
     },
     "output_type": "display_data"
    }
   ],
   "source": [
    "import torchvision\n",
    "\n",
    "# plot and save original and reconstruction images for comparisons\n",
    "input_sample = images[12].reshape(7,1,7,7)\n",
    "input_sample = (input_sample - input_sample.min())/(input_sample.max()-input_sample.min())\n",
    "input_grid = torchvision.utils.make_grid(input_sample)\n",
    "input_grid = input_grid.cpu().detach().numpy().transpose(1,2,0)\n",
    "\n",
    "output_sample = outputs[12].reshape(7,1,7,7)\n",
    "output_sample = (output_sample - output_sample.min())/(output_sample.max()-output_sample.min())\n",
    "output_grid = torchvision.utils.make_grid(output_sample)\n",
    "output_grid = output_grid.cpu().detach().numpy().transpose(1,2,0)\n",
    "\n",
    "plt.figure(figsize=(15,15))\n",
    "merged = np.row_stack((input_grid, output_grid))\n",
    "plt.imshow(merged)"
   ]
  },
  {
   "cell_type": "code",
   "execution_count": null,
   "metadata": {},
   "outputs": [],
   "source": []
  }
 ],
 "metadata": {
  "kernelspec": {
   "display_name": "Python 3",
   "language": "python",
   "name": "python3"
  },
  "language_info": {
   "codemirror_mode": {
    "name": "ipython",
    "version": 3
   },
   "file_extension": ".py",
   "mimetype": "text/x-python",
   "name": "python",
   "nbconvert_exporter": "python",
   "pygments_lexer": "ipython3",
   "version": "3.6.8"
  }
 },
 "nbformat": 4,
 "nbformat_minor": 2
}
