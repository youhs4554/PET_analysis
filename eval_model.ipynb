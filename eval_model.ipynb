{
 "cells": [
  {
   "cell_type": "code",
   "execution_count": 1,
   "metadata": {},
   "outputs": [],
   "source": [
    "import os\n",
    "import torch\n",
    "import torch.nn as nn\n",
    "from datasets import init_dataset\n",
    "from models import init_net\n",
    "from train import evaluate\n",
    "from losses import FocalLoss\n",
    "from sklearn import metrics\n",
    "import matplotlib.pyplot as plt\n",
    "import pandas as pd\n",
    "import numpy as np"
   ]
  },
  {
   "cell_type": "code",
   "execution_count": 2,
   "metadata": {},
   "outputs": [],
   "source": [
    "os.environ[\"CUDA_DEVICE_ORDER\"]=\"PCI_BUS_ID\"   # see issue #152\n",
    "os.environ[\"CUDA_VISIBLE_DEVICES\"]=\"1\""
   ]
  },
  {
   "cell_type": "code",
   "execution_count": 3,
   "metadata": {},
   "outputs": [],
   "source": [
    "# init datasets & loaders\n",
    "datasets, dataloaders = init_dataset(batch_size=5, single_channel=True)\n",
    "criterion = FocalLoss().cuda()"
   ]
  },
  {
   "cell_type": "code",
   "execution_count": 4,
   "metadata": {},
   "outputs": [],
   "source": [
    "def evaluation(MODE):\n",
    "    if MODE == 'min':\n",
    "        in_channels = datasets['train'].min_depth*3\n",
    "    elif MODE == 'max':\n",
    "        in_channels = datasets['train'].max_depth*3\n",
    "        \n",
    "\n",
    "    torch.manual_seed(0)\n",
    "\n",
    "    # init net\n",
    "    net = init_net(opt='4', in_channels=in_channels)\n",
    "    \n",
    "    # evaluate with best model\n",
    "    net.load_state_dict(torch.load(f'./history/{net.__class__.__name__}__{MODE}.pt'))\n",
    "    res, _ = evaluate(net, dataloaders['test'], criterion, ep=0, logging=True, flatten=False, MODE=MODE, rnn=False)\n",
    "\n",
    "    fpr, tpr, thresh = metrics.roc_curve(res['y_test'], res['y_score'][:,0])\n",
    "\n",
    "    roc_auc = metrics.auc(fpr, tpr)\n",
    "\n",
    "    plt.figure()\n",
    "    lw = 2\n",
    "    plt.plot(fpr, tpr, color='darkorange',\n",
    "             lw=lw, label='ROC curve (area = %0.2f)' % roc_auc)\n",
    "    plt.plot([0, 1], [0, 1], color='navy', lw=lw, linestyle='--')\n",
    "    plt.xlim([0.0, 1.0])\n",
    "    plt.ylim([0.0, 1.05])\n",
    "    plt.xlabel('False Positive Rate')\n",
    "    plt.ylabel('True Positive Rate')\n",
    "    plt.title('Receiver operating characteristic')\n",
    "    plt.legend(loc=\"lower right\")\n",
    "    plt.show()\n",
    "\n",
    "    from sklearn.metrics import classification_report, confusion_matrix\n",
    "    target_names = ['class 0', 'class 1']\n",
    "    print(classification_report(res['y_test'], res['y_hat'], target_names=target_names),'\\n')\n",
    "\n",
    "    cm = confusion_matrix(res['y_test'], res['y_hat'])\n",
    "\n",
    "    tn, fp, fn, tp = confusion_matrix(res['y_test'], res['y_hat']).ravel()\n",
    "    print(f'tn : {tn}, fp : {fp}, fn : {fn}, tp : {tp}','\\n')\n",
    "\n",
    "    cm = pd.DataFrame(np.flip(cm), columns=[['PRED']*2, ['1','0']], index=[['ACTUAL']*2, ['1', '0']])\n",
    "    print(cm,'\\n')"
   ]
  },
  {
   "cell_type": "markdown",
   "metadata": {},
   "source": [
    "# MODE : ZeroPad-Max"
   ]
  },
  {
   "cell_type": "code",
   "execution_count": 5,
   "metadata": {},
   "outputs": [
    {
     "name": "stderr",
     "output_type": "stream",
     "text": [
      "test: 100%|██████████| 10/10 [00:04<00:00,  3.09it/s]\n"
     ]
    },
    {
     "name": "stdout",
     "output_type": "stream",
     "text": [
      "[Test] ep : 0 loss : 0.3697           acc : 0.7600 f1 : 0.7391\n",
      "Save Best Model in HISTORY \n",
      "\n"
     ]
    },
    {
     "data": {
      "image/png": "[encoded data removed]",
      "text/plain": [
       "<Figure size 432x288 with 1 Axes>"
      ]
     },
     "metadata": {
      "needs_background": "light"
     },
     "output_type": "display_data"
    },
    {
     "name": "stdout",
     "output_type": "stream",
     "text": [
      "             precision    recall  f1-score   support\n",
      "\n",
      "    class 0       0.72      0.84      0.78        25\n",
      "    class 1       0.81      0.68      0.74        25\n",
      "\n",
      "avg / total       0.77      0.76      0.76        50\n",
      " \n",
      "\n",
      "tn : 21, fp : 4, fn : 8, tp : 17 \n",
      "\n",
      "         PRED    \n",
      "            1   0\n",
      "ACTUAL 1   17   8\n",
      "       0    4  21 \n",
      "\n"
     ]
    }
   ],
   "source": [
    "evaluation(MODE='max')"
   ]
  },
  {
   "cell_type": "markdown",
   "metadata": {},
   "source": [
    "# MODE : Slicing-Min"
   ]
  },
  {
   "cell_type": "code",
   "execution_count": null,
   "metadata": {},
   "outputs": [],
   "source": [
    "evaluation(MODE='min')"
   ]
  },
  {
   "cell_type": "code",
   "execution_count": null,
   "metadata": {},
   "outputs": [],
   "source": []
  }
 ],
 "metadata": {
  "kernelspec": {
   "display_name": "Python 3",
   "language": "python",
   "name": "python3"
  },
  "language_info": {
   "codemirror_mode": {
    "name": "ipython",
    "version": 3
   },
   "file_extension": ".py",
   "mimetype": "text/x-python",
   "name": "python",
   "nbconvert_exporter": "python",
   "pygments_lexer": "ipython3",
   "version": "3.6.8"
  }
 },
 "nbformat": 4,
 "nbformat_minor": 2
}
