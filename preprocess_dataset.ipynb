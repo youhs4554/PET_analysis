{
 "cells": [
  {
   "cell_type": "markdown",
   "metadata": {},
   "source": [
    "# Arrange Dataset"
   ]
  },
  {
   "cell_type": "code",
   "execution_count": 1,
   "metadata": {},
   "outputs": [],
   "source": [
    "from __future__ import print_function\n",
    "\n",
    "import os\n",
    "from natsort import natsorted\n",
    "import pandas as pd\n",
    "import numpy as np\n",
    "import nrrd\n",
    "import cv2\n",
    "import matplotlib.pyplot as plt\n",
    "from tqdm import tqdm\n",
    "import SimpleITK as sitk\n",
    "import sys, time, os\n",
    "import random\n",
    "import string\n",
    "import pydicom\n",
    "from pydicom.data import get_testdata_files"
   ]
  },
  {
   "cell_type": "code",
   "execution_count": 2,
   "metadata": {},
   "outputs": [],
   "source": [
    "def read_nrrd(filename, i):\n",
    "    # Read the data back from file\n",
    "    readdata, header = nrrd.read(filename)\n",
    "    \n",
    "    img = readdata[:, : , i]\n",
    "    rows, cols = img.shape[:2]\n",
    "\n",
    "    # rotate 270 degree\n",
    "    M = cv2.getRotationMatrix2D((cols/2, rows/2), 270, 1.0)\n",
    "\n",
    "    img = cv2.warpAffine(img, M,(cols, rows))\n",
    "\n",
    "    normalized = cv2.normalize(img,\n",
    "                               None,\n",
    "                               0, 255,\n",
    "                               cv2.NORM_MINMAX,\n",
    "                               cv2.CV_8UC1)\n",
    "    \n",
    "    return normalized"
   ]
  },
  {
   "cell_type": "code",
   "execution_count": 3,
   "metadata": {},
   "outputs": [],
   "source": [
    "def get_segment_crop(img,tol=0, mask=None):\n",
    "    img = cv2.bitwise_and(img, img, mask=mask)    \n",
    "    if mask is None:\n",
    "        mask = img > tol\n",
    "    return img[np.ix_(mask.any(1), mask.any(0))]"
   ]
  },
  {
   "cell_type": "code",
   "execution_count": 4,
   "metadata": {},
   "outputs": [],
   "source": [
    "def randomString(stringLength=10):\n",
    "    \"\"\"Generate a random string of fixed length \"\"\"\n",
    "    letters = string.ascii_lowercase\n",
    "    return ''.join(random.choice(letters) for i in range(stringLength))"
   ]
  },
  {
   "cell_type": "code",
   "execution_count": 5,
   "metadata": {},
   "outputs": [],
   "source": [
    "def writeSlices(save_dir, series_tag_values, new_img, i, patient_id):\n",
    "    image_slice = new_img[:,:,i]\n",
    "\n",
    "    # Tags shared by the series.\n",
    "    list(map(lambda tag_value: image_slice.SetMetaData(tag_value[0], tag_value[1]), series_tag_values))\n",
    "\n",
    "    # Slice specific tags.\n",
    "    image_slice.SetMetaData(\"0008|0012\", time.strftime(\"%Y%m%d\")) # Instance Creation Date\n",
    "    image_slice.SetMetaData(\"0008|0013\", time.strftime(\"%H%M%S\")) # Instance Creation Time\n",
    "\n",
    "    # Setting the type to CT preserves the slice location.\n",
    "    image_slice.SetMetaData(\"0008|0060\", \"CT\")  # set the type to CT so the thickness is carried over\n",
    "    \n",
    "    image_slice.SetMetaData(\"0010|0020\", \"CT\")  # set the type to CT so the thickness is carried over\n",
    "\n",
    "    # (0020, 0032) image position patient determines the 3D spacing between slices.\n",
    "    image_slice.SetMetaData(\"0020|0032\", '\\\\'.join(map(str,new_img.TransformIndexToPhysicalPoint((0,0,i))))) # Image Position (Patient)\n",
    "    image_slice.SetMetaData(\"0020,0013\", str(i)) # Instance Number\n",
    "\n",
    "    # Write to the output directory and add the extension dcm, to force writing in DICOM format.\n",
    "    dcm_path = os.path.join(save_dir,str(i)+'.dcm')\n",
    "    writer.SetFileName(dcm_path)\n",
    "    writer.Execute(image_slice)\n",
    "    \n",
    "    ds = pydicom.dcmread(dcm_path)\n",
    "    ds.PatientID = patient_id\n",
    "    ds.save_as(dcm_path)"
   ]
  },
  {
   "cell_type": "code",
   "execution_count": 6,
   "metadata": {},
   "outputs": [],
   "source": [
    "def get_max_hw(res):\n",
    "    max_h, max_w = (0, 0)\n",
    "    for e in res:\n",
    "        h,w = e.shape\n",
    "        if h > max_h:\n",
    "            max_h = h\n",
    "        if w > max_w:\n",
    "            max_w = w\n",
    "    return max_h, max_w"
   ]
  },
  {
   "cell_type": "code",
   "execution_count": 7,
   "metadata": {},
   "outputs": [],
   "source": [
    "src_data_root = '/nasdata/PET_dataset/DSMC_breast468/'"
   ]
  },
  {
   "cell_type": "code",
   "execution_count": 8,
   "metadata": {},
   "outputs": [],
   "source": [
    "annotation_file = os.path.join(src_data_root, 'LN meta.xlsx')\n",
    "image_root = os.path.join(src_data_root, 'Breast_468')\n",
    "\n",
    "anno_data = pd.read_excel(annotation_file)"
   ]
  },
  {
   "cell_type": "markdown",
   "metadata": {},
   "source": [
    "# dicom file -> png"
   ]
  },
  {
   "cell_type": "code",
   "execution_count": 9,
   "metadata": {
    "scrolled": true
   },
   "outputs": [
    {
     "name": "stderr",
     "output_type": "stream",
     "text": [
      "full: 100%|██████████| 468/468 [03:58<00:00,  1.95it/s]\n"
     ]
    }
   ],
   "source": [
    "from glob import glob\n",
    "import skimage\n",
    "from IPython.core.debugger import set_trace\n",
    "\n",
    "for proc_type in ['full']:\n",
    "    target_data_root = os.path.join('/data/DSMC_breast468',proc_type)\n",
    "\n",
    "    for e in ['0', '1']:\n",
    "        os.system(f'mkdir -p {os.path.join(target_data_root, e)}')\n",
    "\n",
    "    for lab, num in tqdm(anno_data.values, desc=proc_type):\n",
    "        target_dir = os.path.join(target_data_root, str(lab))\n",
    "        target_filedir = os.path.join(target_dir, str(num))\n",
    "        \n",
    "        os.system(f'mkdir -p {target_filedir}')\n",
    "        input_dir = os.path.join(image_root, str(num))\n",
    "        input_dcm_series = natsorted(glob(f'{input_dir}/*'))\n",
    "        for i, fp in enumerate(input_dcm_series):\n",
    "            ds = pydicom.dcmread(fp)\n",
    "            # write raw_img as .tif file\n",
    "            target_filename = os.path.join(target_filedir,\n",
    "                                           f'{i}.png')\n",
    "            pixel_arr = cv2.normalize(ds.pixel_array,None,0,255,cv2.NORM_MINMAX, cv2.CV_8UC1)    \n",
    "            cv2.imwrite(target_filename, pixel_arr)\n",
    "            \n",
    "            #skimage.io.imsave(target_filename, ds.pixel_array, plugin='tifffile')"
   ]
  },
  {
   "cell_type": "markdown",
   "metadata": {},
   "source": [
    "# Codes for nrrd (lagacy)"
   ]
  },
  {
   "cell_type": "code",
   "execution_count": null,
   "metadata": {},
   "outputs": [],
   "source": [
    "for proc_type in ['mask', 'full', 'mask_crop']:\n",
    "    target_data_root = os.path.join('/data/DSMC_breast370',proc_type)\n",
    "\n",
    "    for e in ['0', '1']:\n",
    "        os.system(f'mkdir -p {os.path.join(target_data_root, e)}')\n",
    "\n",
    "    for lab, case in tqdm(anno_data.values, desc=proc_type):\n",
    "        target_dir = os.path.join(target_data_root, str(lab))\n",
    "        target_filedir = os.path.join(target_dir, f'Case_{case}')\n",
    "        dcm_savedir = os.path.join(target_filedir, 'DCMs')\n",
    "        \n",
    "        os.system(f'mkdir -p {target_filedir}')\n",
    "        os.system(f'mkdir -p {dcm_savedir}')\n",
    "        \n",
    "        raw_filename = os.path.join(image_root,\n",
    "                                    f'Case ({case})',\n",
    "                                    'img.nrrd')\n",
    "        mask_filename = os.path.join(image_root,\n",
    "                                    f'Case ({case})',\n",
    "                                    'lab.nrrd')\n",
    "        \n",
    "        readdata, header = nrrd.read(raw_filename)\n",
    "        depth = readdata.shape[-1]\n",
    "\n",
    "        res = []\n",
    "        for i in range(depth):\n",
    "            raw_img = read_nrrd(raw_filename, i)\n",
    "            mask_img = read_nrrd(mask_filename, i)\n",
    "            if proc_type == 'mask':\n",
    "                raw_img = cv2.bitwise_and(raw_img, raw_img, mask=mask_img)\n",
    "            elif proc_type == 'mask_crop':\n",
    "                raw_img = get_segment_crop(raw_img, mask=mask_img)\n",
    "\n",
    "            res.append(raw_img)\n",
    "            \n",
    "        # write raw_img as .dcm file\n",
    "        # Create a new series from a numpy array\n",
    "        max_h, max_w = get_max_hw(res)\n",
    "        for i in range(len(res)):\n",
    "            e = res[i]\n",
    "            h,w = e.shape\n",
    "            pad_h, pad_w = max_h-h, max_w-w\n",
    "            res[i] = np.pad(e, ((0,pad_h), (0,pad_w)), mode='constant')\n",
    "            \n",
    "            # write raw_img as .PNG file\n",
    "            target_filename = os.path.join(target_filedir,\n",
    "                                           f'{i}.png')\n",
    "            cv2.imwrite(target_filename, res[i])\n",
    "                        \n",
    "        new_arr = np.array(res, dtype=np.int16)\n",
    "        new_img = sitk.GetImageFromArray(new_arr)\n",
    "        # new_img.SetSpacing([2.5,3.5,4.5])\n",
    "\n",
    "        # Write the 3D image as a series\n",
    "        # IMPORTANT: There are many DICOM tags that need to be updated when you modify an\n",
    "        #            original image. This is a delicate opration and requires knowlege of\n",
    "        #            the DICOM standard. This example only modifies some. For a more complete\n",
    "        #            list of tags that need to be modified see:\n",
    "        #                           http://gdcm.sourceforge.net/wiki/index.php/Writing_DICOM\n",
    "        #            If it is critical for your work to generate valid DICOM files,\n",
    "        #            It is recommended to use David Clunie's Dicom3tools to validate the files \n",
    "        #                           (http://www.dclunie.com/dicom3tools.html).\n",
    "\n",
    "        writer = sitk.ImageFileWriter()\n",
    "        # Use the study/series/frame of reference information given in the meta-data\n",
    "        # dictionary and not the automatically generated information from the file IO\n",
    "        writer.KeepOriginalImageUIDOn()\n",
    "\n",
    "        modification_time = time.strftime(\"%H%M%S\")\n",
    "        modification_date = time.strftime(\"%Y%m%d\")\n",
    "\n",
    "        # Copy some of the tags and add the relevant tags indicating the change.\n",
    "        # For the series instance UID (0020|000e), each of the components is a number, cannot start\n",
    "        # with zero, and separated by a '.' We create a unique series ID using the date and time.\n",
    "        # tags of interest:\n",
    "        direction = new_img.GetDirection()\n",
    "        series_tag_values = [(\"0008|0031\",modification_time), # Series Time\n",
    "                          (\"0008|0021\",modification_date), # Series Date\n",
    "                          (\"0008|0008\",\"DERIVED\\\\SECONDARY\"), # Image Type\n",
    "                          (\"0020|000e\", \"1.2.826.0.1.3680043.2.1125.\"+modification_date+\".1\"+modification_time), # Series Instance UID\n",
    "                          (\"0020|0037\", '\\\\'.join(map(str, (direction[0], direction[3], direction[6],# Image Orientation (Patient)\n",
    "                                                            direction[1],direction[4],direction[7])))),\n",
    "                          (\"0008|103e\", \"Created-SimpleITK\")] # Series Description\n",
    "        \n",
    "        patient_id = randomString()\n",
    "\n",
    "        # Write slices to output directory\n",
    "        list(map(lambda i: writeSlices(dcm_savedir,\n",
    "                                       series_tag_values,\n",
    "                                       new_img,\n",
    "                                       i, patient_id), range(new_img.GetDepth())))"
   ]
  },
  {
   "cell_type": "code",
   "execution_count": null,
   "metadata": {},
   "outputs": [],
   "source": [
    "max_h, max_w = get_max_hw(res)\n",
    "for i in range(len(res)):\n",
    "    e = res[i]\n",
    "    h,w = e.shape\n",
    "    pad_h, pad_w = max_h-h, max_w-w\n",
    "    res[i] = np.pad(e, ((0,pad_h), (0,pad_w)), mode='constant')"
   ]
  },
  {
   "cell_type": "code",
   "execution_count": null,
   "metadata": {},
   "outputs": [],
   "source": [
    "res[0].shape"
   ]
  },
  {
   "cell_type": "code",
   "execution_count": null,
   "metadata": {},
   "outputs": [],
   "source": [
    "fp = '/data/DSMC_breast370/mask_crop/1/Case_1/1.png'"
   ]
  },
  {
   "cell_type": "code",
   "execution_count": null,
   "metadata": {},
   "outputs": [],
   "source": [
    "from PIL import Image"
   ]
  },
  {
   "cell_type": "code",
   "execution_count": null,
   "metadata": {},
   "outputs": [],
   "source": [
    "Image.open(fp)"
   ]
  },
  {
   "cell_type": "code",
   "execution_count": null,
   "metadata": {},
   "outputs": [],
   "source": []
  }
 ],
 "metadata": {
  "kernelspec": {
   "display_name": "Python 3",
   "language": "python",
   "name": "python3"
  },
  "language_info": {
   "codemirror_mode": {
    "name": "ipython",
    "version": 3
   },
   "file_extension": ".py",
   "mimetype": "text/x-python",
   "name": "python",
   "nbconvert_exporter": "python",
   "pygments_lexer": "ipython3",
   "version": "3.6.8"
  }
 },
 "nbformat": 4,
 "nbformat_minor": 2
}
